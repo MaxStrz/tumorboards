{
 "cells": [
  {
   "cell_type": "code",
   "execution_count": 29,
   "id": "58b9759c-7450-408b-a269-512d098a4f10",
   "metadata": {},
   "outputs": [],
   "source": [
    "import pikepdf\n",
    "import pymupdf"
   ]
  },
  {
   "cell_type": "code",
   "execution_count": 30,
   "id": "a8ac7f71-e3a5-496b-a306-e605cc9dcce8",
   "metadata": {},
   "outputs": [
    {
     "ename": "PermissionError",
     "evalue": "[WinError 5] Zugriff verweigert: 'C:\\\\Users\\\\maxst\\\\Desktop\\\\tumorboards\\\\.pikepdf.decomp_tumorboard_aarontest.pdf__3w5bfc' -> 'decomp_tumorboard_aarontest.pdf'",
     "output_type": "error",
     "traceback": [
      "\u001b[1;31m---------------------------------------------------------------------------\u001b[0m",
      "\u001b[1;31mPermissionError\u001b[0m                           Traceback (most recent call last)",
      "Cell \u001b[1;32mIn[30], line 3\u001b[0m\n\u001b[0;32m      1\u001b[0m pdf_name \u001b[38;5;241m=\u001b[39m \u001b[38;5;124m'\u001b[39m\u001b[38;5;124mtumorboard_aarontest.pdf\u001b[39m\u001b[38;5;124m'\u001b[39m\n\u001b[0;32m      2\u001b[0m pdf \u001b[38;5;241m=\u001b[39m pikepdf\u001b[38;5;241m.\u001b[39mopen(pdf_name)\n\u001b[1;32m----> 3\u001b[0m \u001b[43mpdf\u001b[49m\u001b[38;5;241;43m.\u001b[39;49m\u001b[43msave\u001b[49m\u001b[43m(\u001b[49m\u001b[38;5;124;43m\"\u001b[39;49m\u001b[38;5;124;43mdecomp_tumorboard_aarontest.pdf\u001b[39;49m\u001b[38;5;124;43m\"\u001b[39;49m\u001b[43m,\u001b[49m\u001b[43m \u001b[49m\u001b[43mcompress_streams\u001b[49m\u001b[38;5;241;43m=\u001b[39;49m\u001b[38;5;28;43;01mFalse\u001b[39;49;00m\u001b[43m)\u001b[49m\n",
      "File \u001b[1;32m~\\Desktop\\tumorboards\\tbvenv\\lib\\site-packages\\pikepdf\\_methods.py:311\u001b[0m, in \u001b[0;36mExtend_Pdf.save\u001b[1;34m(self, filename_or_stream, static_id, preserve_pdfa, min_version, force_version, fix_metadata_version, compress_streams, stream_decode_level, object_stream_mode, normalize_content, linearize, qdf, progress, encryption, recompress_flate, deterministic_id)\u001b[0m\n\u001b[0;32m    302\u001b[0m \u001b[38;5;28;01mif\u001b[39;00m \u001b[38;5;129;01mnot\u001b[39;00m filename_or_stream:\n\u001b[0;32m    303\u001b[0m     \u001b[38;5;28;01mraise\u001b[39;00m \u001b[38;5;167;01mValueError\u001b[39;00m(\n\u001b[0;32m    304\u001b[0m         \u001b[38;5;124m\"\u001b[39m\u001b[38;5;124mCannot save to original filename because the original file was \u001b[39m\u001b[38;5;124m\"\u001b[39m\n\u001b[0;32m    305\u001b[0m         \u001b[38;5;124m\"\u001b[39m\u001b[38;5;124mnot opening using Pdf.open(..., allow_overwriting_input=True). \u001b[39m\u001b[38;5;124m\"\u001b[39m\n\u001b[1;32m   (...)\u001b[0m\n\u001b[0;32m    309\u001b[0m         \u001b[38;5;124m\"\u001b[39m\u001b[38;5;124mno original filename to save to.\u001b[39m\u001b[38;5;124m\"\u001b[39m\n\u001b[0;32m    310\u001b[0m     )\n\u001b[1;32m--> 311\u001b[0m \u001b[38;5;28;01mwith\u001b[39;00m ExitStack() \u001b[38;5;28;01mas\u001b[39;00m stack:\n\u001b[0;32m    312\u001b[0m     \u001b[38;5;28;01mif\u001b[39;00m \u001b[38;5;28mhasattr\u001b[39m(filename_or_stream, \u001b[38;5;124m'\u001b[39m\u001b[38;5;124mseek\u001b[39m\u001b[38;5;124m'\u001b[39m):\n\u001b[0;32m    313\u001b[0m         stream \u001b[38;5;241m=\u001b[39m filename_or_stream\n",
      "File \u001b[1;32m~\\AppData\\Local\\Programs\\Python\\Python310\\lib\\contextlib.py:576\u001b[0m, in \u001b[0;36mExitStack.__exit__\u001b[1;34m(self, *exc_details)\u001b[0m\n\u001b[0;32m    572\u001b[0m \u001b[38;5;28;01mtry\u001b[39;00m:\n\u001b[0;32m    573\u001b[0m     \u001b[38;5;66;03m# bare \"raise exc_details[1]\" replaces our carefully\u001b[39;00m\n\u001b[0;32m    574\u001b[0m     \u001b[38;5;66;03m# set-up context\u001b[39;00m\n\u001b[0;32m    575\u001b[0m     fixed_ctx \u001b[38;5;241m=\u001b[39m exc_details[\u001b[38;5;241m1\u001b[39m]\u001b[38;5;241m.\u001b[39m__context__\n\u001b[1;32m--> 576\u001b[0m     \u001b[38;5;28;01mraise\u001b[39;00m exc_details[\u001b[38;5;241m1\u001b[39m]\n\u001b[0;32m    577\u001b[0m \u001b[38;5;28;01mexcept\u001b[39;00m \u001b[38;5;167;01mBaseException\u001b[39;00m:\n\u001b[0;32m    578\u001b[0m     exc_details[\u001b[38;5;241m1\u001b[39m]\u001b[38;5;241m.\u001b[39m__context__ \u001b[38;5;241m=\u001b[39m fixed_ctx\n",
      "File \u001b[1;32m~\\AppData\\Local\\Programs\\Python\\Python310\\lib\\contextlib.py:561\u001b[0m, in \u001b[0;36mExitStack.__exit__\u001b[1;34m(self, *exc_details)\u001b[0m\n\u001b[0;32m    559\u001b[0m \u001b[38;5;28;01massert\u001b[39;00m is_sync\n\u001b[0;32m    560\u001b[0m \u001b[38;5;28;01mtry\u001b[39;00m:\n\u001b[1;32m--> 561\u001b[0m     \u001b[38;5;28;01mif\u001b[39;00m \u001b[43mcb\u001b[49m\u001b[43m(\u001b[49m\u001b[38;5;241;43m*\u001b[39;49m\u001b[43mexc_details\u001b[49m\u001b[43m)\u001b[49m:\n\u001b[0;32m    562\u001b[0m         suppressed_exc \u001b[38;5;241m=\u001b[39m \u001b[38;5;28;01mTrue\u001b[39;00m\n\u001b[0;32m    563\u001b[0m         pending_raise \u001b[38;5;241m=\u001b[39m \u001b[38;5;28;01mFalse\u001b[39;00m\n",
      "File \u001b[1;32m~\\AppData\\Local\\Programs\\Python\\Python310\\lib\\contextlib.py:142\u001b[0m, in \u001b[0;36m_GeneratorContextManager.__exit__\u001b[1;34m(self, typ, value, traceback)\u001b[0m\n\u001b[0;32m    140\u001b[0m \u001b[38;5;28;01mif\u001b[39;00m typ \u001b[38;5;129;01mis\u001b[39;00m \u001b[38;5;28;01mNone\u001b[39;00m:\n\u001b[0;32m    141\u001b[0m     \u001b[38;5;28;01mtry\u001b[39;00m:\n\u001b[1;32m--> 142\u001b[0m         \u001b[38;5;28;43mnext\u001b[39;49m\u001b[43m(\u001b[49m\u001b[38;5;28;43mself\u001b[39;49m\u001b[38;5;241;43m.\u001b[39;49m\u001b[43mgen\u001b[49m\u001b[43m)\u001b[49m\n\u001b[0;32m    143\u001b[0m     \u001b[38;5;28;01mexcept\u001b[39;00m \u001b[38;5;167;01mStopIteration\u001b[39;00m:\n\u001b[0;32m    144\u001b[0m         \u001b[38;5;28;01mreturn\u001b[39;00m \u001b[38;5;28;01mFalse\u001b[39;00m\n",
      "File \u001b[1;32m~\\Desktop\\tumorboards\\tbvenv\\lib\\site-packages\\pikepdf\\_io.py:80\u001b[0m, in \u001b[0;36matomic_overwrite\u001b[1;34m(filename)\u001b[0m\n\u001b[0;32m     77\u001b[0m \u001b[38;5;28;01mwith\u001b[39;00m suppress(\u001b[38;5;167;01mOSError\u001b[39;00m):\n\u001b[0;32m     78\u001b[0m     \u001b[38;5;66;03m# Copy permissions, create time, etc. from the original\u001b[39;00m\n\u001b[0;32m     79\u001b[0m     copystat(filename, Path(tf\u001b[38;5;241m.\u001b[39mname))\n\u001b[1;32m---> 80\u001b[0m \u001b[43mPath\u001b[49m\u001b[43m(\u001b[49m\u001b[43mtf\u001b[49m\u001b[38;5;241;43m.\u001b[39;49m\u001b[43mname\u001b[49m\u001b[43m)\u001b[49m\u001b[38;5;241;43m.\u001b[39;49m\u001b[43mreplace\u001b[49m\u001b[43m(\u001b[49m\u001b[43mfilename\u001b[49m\u001b[43m)\u001b[49m\n\u001b[0;32m     81\u001b[0m \u001b[38;5;28;01mwith\u001b[39;00m suppress(\u001b[38;5;167;01mOSError\u001b[39;00m):\n\u001b[0;32m     82\u001b[0m     \u001b[38;5;66;03m# Update modified time of the destination file\u001b[39;00m\n\u001b[0;32m     83\u001b[0m     filename\u001b[38;5;241m.\u001b[39mtouch()\n",
      "File \u001b[1;32m~\\AppData\\Local\\Programs\\Python\\Python310\\lib\\pathlib.py:1245\u001b[0m, in \u001b[0;36mPath.replace\u001b[1;34m(self, target)\u001b[0m\n\u001b[0;32m   1235\u001b[0m \u001b[38;5;28;01mdef\u001b[39;00m\u001b[38;5;250m \u001b[39m\u001b[38;5;21mreplace\u001b[39m(\u001b[38;5;28mself\u001b[39m, target):\n\u001b[0;32m   1236\u001b[0m \u001b[38;5;250m    \u001b[39m\u001b[38;5;124;03m\"\"\"\u001b[39;00m\n\u001b[0;32m   1237\u001b[0m \u001b[38;5;124;03m    Rename this path to the target path, overwriting if that path exists.\u001b[39;00m\n\u001b[0;32m   1238\u001b[0m \n\u001b[1;32m   (...)\u001b[0m\n\u001b[0;32m   1243\u001b[0m \u001b[38;5;124;03m    Returns the new Path instance pointing to the target path.\u001b[39;00m\n\u001b[0;32m   1244\u001b[0m \u001b[38;5;124;03m    \"\"\"\u001b[39;00m\n\u001b[1;32m-> 1245\u001b[0m     \u001b[38;5;28;43mself\u001b[39;49m\u001b[38;5;241;43m.\u001b[39;49m\u001b[43m_accessor\u001b[49m\u001b[38;5;241;43m.\u001b[39;49m\u001b[43mreplace\u001b[49m\u001b[43m(\u001b[49m\u001b[38;5;28;43mself\u001b[39;49m\u001b[43m,\u001b[49m\u001b[43m \u001b[49m\u001b[43mtarget\u001b[49m\u001b[43m)\u001b[49m\n\u001b[0;32m   1246\u001b[0m     \u001b[38;5;28;01mreturn\u001b[39;00m \u001b[38;5;28mself\u001b[39m\u001b[38;5;241m.\u001b[39m\u001b[38;5;18m__class__\u001b[39m(target)\n",
      "\u001b[1;31mPermissionError\u001b[0m: [WinError 5] Zugriff verweigert: 'C:\\\\Users\\\\maxst\\\\Desktop\\\\tumorboards\\\\.pikepdf.decomp_tumorboard_aarontest.pdf__3w5bfc' -> 'decomp_tumorboard_aarontest.pdf'"
     ]
    }
   ],
   "source": [
    "pdf_name = 'tumorboard_aarontest.pdf'\n",
    "pdf = pikepdf.open(pdf_name)\n",
    "pdf.save(\"decomp_tumorboard_aarontest.pdf\", compress_streams=False)"
   ]
  },
  {
   "cell_type": "code",
   "execution_count": 31,
   "id": "6a2b91c3-0681-4016-9413-166d998c873b",
   "metadata": {},
   "outputs": [],
   "source": [
    "doc = pymupdf.open(\"decomp_tumorboard_aarontest.pdf\") # open a document\n",
    "out = open(\"decomp_tumorboard_aarontest.txt\", \"wb\") # create a text output\n",
    "for page in doc: # iterate the document pages\n",
    "    text = page.get_text(\"text\").encode(\"utf8\") # get plain text (is in UTF-8)\n",
    "    out.write(text) # write text of page\n",
    "    out.write(bytes((12,))) # write page delimiter (form feed 0x0C)\n",
    "out.close()"
   ]
  },
  {
   "cell_type": "code",
   "execution_count": 32,
   "id": "a8b75918-95f7-4591-b2bb-e92322903d45",
   "metadata": {},
   "outputs": [],
   "source": [
    "with open('decomp_tumorboard_aarontest.txt', 'r') as f:\n",
    "    my_text = f.readlines()"
   ]
  },
  {
   "cell_type": "code",
   "execution_count": 33,
   "id": "c4c6064f-4fb4-4f34-a24a-80b1c97f729e",
   "metadata": {},
   "outputs": [
    {
     "data": {
      "text/plain": [
       "[' \\n',\n",
       " 'Thorax- und Allgemeines Tumorboard\\n',\n",
       " 'Datum Vorstellung Tumorboard:\\n',\n",
       " 'Geb.-Datum:\\n',\n",
       " 'Aktuelle Diagnose und Fragestellung:\\n',\n",
       " 'ECOG:\\n',\n",
       " 'Entscheidungen aus vorangegangenen Tumorboards:\\n',\n",
       " 'Tumorboardempfehlung:\\n',\n",
       " 'Verwaltung\\n',\n",
       " 'Bisheriger onkologischer Verlauf:\\n',\n",
       " 'Name:\\n',\n",
       " '16.04.2025\\n',\n",
       " 'Notfallambulanz Allgemeinchirurgie\\n',\n",
       " 'Test, Aaron\\n',\n",
       " '17.06.1949\\n',\n",
       " 'tetdgfs\\n',\n",
       " 'sdfgds\\n',\n",
       " 'fg\\n',\n",
       " 'sdg\\n',\n",
       " 'sd\\n',\n",
       " 'fg\\n',\n",
       " 'dfg\\n',\n",
       " '0\\n',\n",
       " 'Kutanes Plattenepithelkarzinom, Kopf hochparietal, Tumordicke: 8 mm, R0-Status, ED (07/2019) \\n',\n",
       " 'pT3, cN0, cM0 (TNM 2010)\\n',\n",
       " '-aktuell plastische Defektdeckung nach R0 Resektion am 15.8.2019\\n',\n",
       " 'BasosquamÃ¶ses Karzinom, Ã¼ber dem linken Ohr\\n',\n",
       " 'Tumordicke: 5mm, R0 Status, ED (09/2019)\\n',\n",
       " 'Tumorklassifikation:\\n',\n",
       " '(Initial)\\n',\n",
       " 'Nodalstatus\\n',\n",
       " 'Metastasen\\n',\n",
       " 'L/V/PN\\n',\n",
       " 'Resektionsrand\\n',\n",
       " 'PrimÃ¤rtumor\\n',\n",
       " 'gdf\\n',\n",
       " 'dfg\\n',\n",
       " 'dfg\\n',\n",
       " '17.02.25 Haut Tumorboard: xxxxxxxxx\\n',\n",
       " 'tesdt\\n',\n",
       " 'Santhirika Ragunathan\\n',\n",
       " '\\x0c']"
      ]
     },
     "execution_count": 33,
     "metadata": {},
     "output_type": "execute_result"
    }
   ],
   "source": [
    "my_text"
   ]
  },
  {
   "cell_type": "code",
   "execution_count": null,
   "id": "25c1ca45-77ac-4103-9aa0-b41d6f79c3ac",
   "metadata": {},
   "outputs": [],
   "source": []
  },
  {
   "cell_type": "code",
   "execution_count": null,
   "id": "a017b508-b4ac-4fb7-b801-efb1f0294104",
   "metadata": {},
   "outputs": [],
   "source": []
  }
 ],
 "metadata": {
  "kernelspec": {
   "display_name": "Python (tbvenv)",
   "language": "python",
   "name": "tbvenv"
  },
  "language_info": {
   "codemirror_mode": {
    "name": "ipython",
    "version": 3
   },
   "file_extension": ".py",
   "mimetype": "text/x-python",
   "name": "python",
   "nbconvert_exporter": "python",
   "pygments_lexer": "ipython3",
   "version": "3.10.2"
  }
 },
 "nbformat": 4,
 "nbformat_minor": 5
}
