{
 "cells": [
  {
   "cell_type": "code",
   "execution_count": 32,
   "id": "58b9759c-7450-408b-a269-512d098a4f10",
   "metadata": {},
   "outputs": [],
   "source": [
    "import pikepdf\n",
    "import pymupdf\n",
    "from collections import defaultdict\n",
    "import matplotlib.pyplot as plt\n",
    "from my_data_classes import thoraxformkeys, Element, Document\n",
    "import numpy as np"
   ]
  },
  {
   "cell_type": "markdown",
   "id": "5c24d078-5228-4dce-bd43-3586a07b34da",
   "metadata": {},
   "source": [
    "#### Lese PDF-Blöcke aus PDFs"
   ]
  },
  {
   "cell_type": "code",
   "execution_count": 2,
   "id": "dc528cfc-604b-4b44-9aaf-43b65e677404",
   "metadata": {},
   "outputs": [],
   "source": [
    "my_doc = Document(\n",
    "    name='Thorax und Allgemeines Tumorboard',\n",
    "    datei_name='tumorboard_aarontest.pdf'\n",
    ")"
   ]
  },
  {
   "cell_type": "code",
   "execution_count": 3,
   "id": "775e9542-a435-4749-b5d8-c0ff9d98e734",
   "metadata": {},
   "outputs": [],
   "source": [
    "my_doc.pdf_bloeke_erstellen()"
   ]
  },
  {
   "cell_type": "markdown",
   "id": "a6c36324-82f1-48f2-94be-edb1e468d21f",
   "metadata": {},
   "source": [
    "##### Elements erstellen"
   ]
  },
  {
   "cell_type": "code",
   "execution_count": 4,
   "id": "07e0ac7d-57e1-4dc0-93b0-8f8c5f4154dd",
   "metadata": {},
   "outputs": [],
   "source": [
    "title = Element(\n",
    "    name='title',\n",
    "    text='thorax- und allgemeines tumorboard'\n",
    ")"
   ]
  },
  {
   "cell_type": "code",
   "execution_count": 5,
   "id": "3ab38516-c5ad-40d0-a3c8-4ebc7bfc8e2e",
   "metadata": {},
   "outputs": [],
   "source": [
    "datum = Element(\n",
    "    name='datum',\n",
    "    text='datum vorstellung tumorboard'\n",
    ")"
   ]
  },
  {
   "cell_type": "code",
   "execution_count": 6,
   "id": "5cc159ff-3ea5-478e-a940-7e5f82ffcc8e",
   "metadata": {},
   "outputs": [],
   "source": [
    "aktuelle_diagnose = Element(\n",
    "    name='diagnose',\n",
    "    text='aktuelle diagnose und fragestellung'\n",
    ")"
   ]
  },
  {
   "cell_type": "code",
   "execution_count": 7,
   "id": "3a1fa552-ba7c-426d-b97e-b68c83cd8888",
   "metadata": {},
   "outputs": [],
   "source": [
    "patientenname = Element(\n",
    "    name='patientenname',\n",
    "    text='Name:'\n",
    ")"
   ]
  },
  {
   "cell_type": "code",
   "execution_count": 8,
   "id": "e2e4b856-2bd2-4e18-983a-d24d8bf37e67",
   "metadata": {},
   "outputs": [],
   "source": [
    "geburtstag = Element(\n",
    "    name='geburtstag',\n",
    "    text='geb.-datum'\n",
    ")"
   ]
  },
  {
   "cell_type": "code",
   "execution_count": 9,
   "id": "853d4cd5-9233-4ba5-8bb8-08a66fb53e3d",
   "metadata": {},
   "outputs": [],
   "source": [
    "my_doc.elements = [datum, title, aktuelle_diagnose, patientenname, geburtstag]"
   ]
  },
  {
   "cell_type": "code",
   "execution_count": 10,
   "id": "fdbd735f-bdc0-4597-95e1-2e644297c3a2",
   "metadata": {},
   "outputs": [
    {
     "name": "stdout",
     "output_type": "stream",
     "text": [
      "Block added to element\n",
      "Block added to element\n",
      "Block added to element\n",
      "Block added to element\n",
      "Block added to element\n"
     ]
    }
   ],
   "source": [
    "my_doc.add_block_to_elements()"
   ]
  },
  {
   "cell_type": "code",
   "execution_count": 11,
   "id": "b685392f-6051-49f4-8ada-e2d2f5c481c7",
   "metadata": {},
   "outputs": [
    {
     "data": {
      "text/plain": [
       "(70.91999816894531, 167.4696807861328, 224.4204559326172, 178.6300811767578)"
      ]
     },
     "execution_count": 11,
     "metadata": {},
     "output_type": "execute_result"
    }
   ],
   "source": [
    "block = my_doc.elements[0].block\n",
    "block[:4]"
   ]
  },
  {
   "cell_type": "code",
   "execution_count": 22,
   "id": "a972dea2-7087-43ae-86b8-2cb692e35a34",
   "metadata": {},
   "outputs": [],
   "source": [
    "with pymupdf.open(my_doc.datei_name) as doc:\n",
    "    for page in doc:\n",
    "        blocks = page.get_text('dict')['blocks']\n",
    "        simple_blocks = page.get_text(\"blocks\")"
   ]
  },
  {
   "cell_type": "code",
   "execution_count": 45,
   "id": "d5e9400f-cddb-456b-bc34-a2e8dfc2c9bc",
   "metadata": {},
   "outputs": [],
   "source": [
    "x0, y0, x1, y1 = simple_blocks[9][:4]"
   ]
  },
  {
   "cell_type": "code",
   "execution_count": 46,
   "id": "818a7125-670e-46fd-b2db-85f1cd81eefc",
   "metadata": {},
   "outputs": [
    {
     "data": {
      "image/png": "[encoded data removed]",
      "text/plain": [
       "<Figure size 640x480 with 1 Axes>"
      ]
     },
     "metadata": {},
     "output_type": "display_data"
    }
   ],
   "source": [
    "rect = pymupdf.Rect(x0, y0, x1, y1)\n",
    "\n",
    "def create_view(doc, page, rect):\n",
    "    pix = doc[page].get_pixmap(clip=rect)\n",
    "    return pix"
   ]
  },
  {
   "cell_type": "code",
   "execution_count": 66,
   "id": "297efd09-3e42-4685-8911-f23a76ba6845",
   "metadata": {},
   "outputs": [],
   "source": [
    "def show_block_text(block_number):\n",
    "    with pymupdf.open(my_doc.datei_name) as doc:\n",
    "        for page in doc:\n",
    "            blocks = page.get_text('dict')['blocks']\n",
    "            simple_blocks = page.get_text(\"blocks\")\n",
    "        x0, y0, x1, y1 = simple_blocks[block_number][:4]\n",
    "        rect = pymupdf.Rect(x0, y0, x1, y1)\n",
    "        pix = create_view(doc, 0, rect)\n",
    "        img = np.frombuffer(pix.samples, dtype=np.uint8).reshape(pix.height, pix.width, pix.n)\n",
    "        plt.imshow(img)\n",
    "        plt.axis(\"off\")\n",
    "        plt.show()"
   ]
  },
  {
   "cell_type": "code",
   "execution_count": null,
   "id": "88821d60-a287-4623-b0c1-7dd5706e08b9",
   "metadata": {},
   "outputs": [],
   "source": [
    "def show_span_text(span_number):\n",
    "    "
   ]
  },
  {
   "cell_type": "code",
   "execution_count": 129,
   "id": "d9fb36e4-20b1-4553-b971-a2be76f39ac0",
   "metadata": {},
   "outputs": [],
   "source": [
    "my_iter = iter(range(0,len(simple_blocks)))"
   ]
  },
  {
   "cell_type": "code",
   "execution_count": 131,
   "id": "f2caca8f-15db-46d7-a2c6-2c266ac83c86",
   "metadata": {},
   "outputs": [
    {
     "data": {
      "text/plain": [
       "<module 'matplotlib.pyplot' from 'C:\\\\Users\\\\maxst\\\\Desktop\\\\tumorboards\\\\tbvenv\\\\lib\\\\site-packages\\\\matplotlib\\\\pyplot.py'>"
      ]
     },
     "execution_count": 131,
     "metadata": {},
     "output_type": "execute_result"
    },
    {
     "data": {
      "image/png": "[encoded data removed]",
      "text/plain": [
       "<Figure size 640x480 with 1 Axes>"
      ]
     },
     "metadata": {},
     "output_type": "display_data"
    }
   ],
   "source": [
    "show_block_text(next(my_iter))"
   ]
  },
  {
   "cell_type": "code",
   "execution_count": 56,
   "id": "b70d1d1b-b20d-4b61-91d8-cc76aeedb5c1",
   "metadata": {},
   "outputs": [
    {
     "data": {
      "text/plain": [
       "'Entscheidungen aus vorangegangenen Tumorboards:\\n'"
      ]
     },
     "execution_count": 56,
     "metadata": {},
     "output_type": "execute_result"
    }
   ],
   "source": [
    "simple_blocks[6][4]"
   ]
  },
  {
   "cell_type": "code",
   "execution_count": 132,
   "id": "16c9be96-dca0-4b3c-8ec3-6d5cfcec0850",
   "metadata": {},
   "outputs": [
    {
     "data": {
      "text/plain": [
       "(70.91999816894531,\n",
       " 656.4697265625,\n",
       " 327.0960693359375,\n",
       " 667.6300659179688,\n",
       " 'Entscheidungen aus vorangegangenen Tumorboards:\\n',\n",
       " 6,\n",
       " 0)"
      ]
     },
     "execution_count": 132,
     "metadata": {},
     "output_type": "execute_result"
    }
   ],
   "source": [
    "simple_blocks[6]"
   ]
  },
  {
   "cell_type": "code",
   "execution_count": 57,
   "id": "ef230669-f877-4f14-bdbe-97beb7c2a137",
   "metadata": {},
   "outputs": [
    {
     "data": {
      "text/plain": [
       "{'number': 6,\n",
       " 'type': 0,\n",
       " 'bbox': (70.91999816894531,\n",
       "  212.10968017578125,\n",
       "  248.97792053222656,\n",
       "  223.27008056640625),\n",
       " 'lines': [{'spans': [{'size': 10.000349998474121,\n",
       "     'flags': 16,\n",
       "     'bidi': 0,\n",
       "     'char_flags': 24,\n",
       "     'font': 'CIDFont+F2',\n",
       "     'color': 0,\n",
       "     'alpha': 255,\n",
       "     'ascender': 0.9049999713897705,\n",
       "     'descender': -0.210999995470047,\n",
       "     'text': 'Aktuelle Diagnose und Fragestellung:',\n",
       "     'origin': (70.91999816894531, 221.16000366210938),\n",
       "     'bbox': (70.91999816894531,\n",
       "      212.10968017578125,\n",
       "      248.97792053222656,\n",
       "      223.27008056640625)}],\n",
       "   'wmode': 0,\n",
       "   'dir': (1.0, 0.0),\n",
       "   'bbox': (70.91999816894531,\n",
       "    212.10968017578125,\n",
       "    248.97792053222656,\n",
       "    223.27008056640625)}]}"
      ]
     },
     "execution_count": 57,
     "metadata": {},
     "output_type": "execute_result"
    }
   ],
   "source": [
    "blocks[6]"
   ]
  },
  {
   "cell_type": "code",
   "execution_count": 340,
   "id": "929b07fd-6312-4abf-9b6c-dff78f912aca",
   "metadata": {},
   "outputs": [],
   "source": [
    "form_elements = list(my_doc.__dataclass_fields__.keys())[1:]    "
   ]
  },
  {
   "cell_type": "code",
   "execution_count": 225,
   "id": "826c3e4f-8e13-4fd3-80a0-1b5bc9c6bab6",
   "metadata": {
    "scrolled": true
   },
   "outputs": [
    {
     "name": "stdout",
     "output_type": "stream",
     "text": [
      "Block added to element\n"
     ]
    }
   ],
   "source": [
    "title = find_element(title)"
   ]
  },
  {
   "cell_type": "code",
   "execution_count": null,
   "id": "9fd95623-7ec6-4b7e-88a0-f1ca15c3d649",
   "metadata": {},
   "outputs": [],
   "source": [
    "my_doc"
   ]
  },
  {
   "cell_type": "code",
   "execution_count": 187,
   "id": "11d6a38a-8a0c-4a27-96f0-4d3966b16e52",
   "metadata": {},
   "outputs": [
    {
     "name": "stdout",
     "output_type": "stream",
     "text": [
      "Thorax- und Allgemeines Tumorboard\n"
     ]
    }
   ],
   "source": [
    "print(title.text)"
   ]
  },
  {
   "cell_type": "code",
   "execution_count": 174,
   "id": "bd6b7709-61c2-4ea0-9c02-3105b4f8acd8",
   "metadata": {},
   "outputs": [
    {
     "data": {
      "text/plain": [
       "(210.48001098632812,\n",
       " 150.17959594726562,\n",
       " 427.3993835449219,\n",
       " 163.5720977783203,\n",
       " 'Thorax- und Allgemeines Tumorboard\\n',\n",
       " 1,\n",
       " 0)"
      ]
     },
     "execution_count": 174,
     "metadata": {},
     "output_type": "execute_result"
    }
   ],
   "source": [
    "title.block"
   ]
  },
  {
   "cell_type": "code",
   "execution_count": 111,
   "id": "17bbae0b-5d05-4450-865d-a7a6861ec557",
   "metadata": {},
   "outputs": [],
   "source": [
    "anchor = 'datum vorstellung tumorboard'\n",
    "anchor_block = None\n",
    "for block in blocks:\n",
    "    if anchor in block[4].lower():\n",
    "        anchor_block = block[5]"
   ]
  },
  {
   "cell_type": "code",
   "execution_count": 113,
   "id": "79122efe-9ba6-4edd-8e5f-f5950de68846",
   "metadata": {},
   "outputs": [
    {
     "data": {
      "text/plain": [
       "(70.91999816894531,\n",
       " 167.4696807861328,\n",
       " 224.4204559326172,\n",
       " 178.6300811767578,\n",
       " 'Datum Vorstellung Tumorboard:\\n',\n",
       " 2,\n",
       " 0)"
      ]
     },
     "execution_count": 113,
     "metadata": {},
     "output_type": "execute_result"
    }
   ],
   "source": [
    "blocks[anchor_block]"
   ]
  },
  {
   "cell_type": "code",
   "execution_count": 73,
   "id": "ed3541bf-35e0-4fa5-b5d0-dd8472acbbc1",
   "metadata": {},
   "outputs": [
    {
     "data": {
      "text/plain": [
       "(70.91999816894531,\n",
       " 710.8297119140625,\n",
       " 92.36907958984375,\n",
       " 721.9900512695312,\n",
       " 'tesdt\\n',\n",
       " 19,\n",
       " 0)"
      ]
     },
     "execution_count": 73,
     "metadata": {},
     "output_type": "execute_result"
    }
   ],
   "source": [
    "blocks[19]"
   ]
  },
  {
   "cell_type": "code",
   "execution_count": 69,
   "id": "e11359b5-c9f5-4303-8ef4-95f1eee984b4",
   "metadata": {},
   "outputs": [],
   "source": [
    "same_line = []\n",
    "for block in blocks:\n",
    "    if block[1] > 167.4 and block[1] < 167.5:\n",
    "        same_line.append(block)"
   ]
  },
  {
   "cell_type": "code",
   "execution_count": 68,
   "id": "5b348ed7-1d66-4c6e-90e7-8883caa2cb2b",
   "metadata": {},
   "outputs": [
    {
     "data": {
      "text/plain": [
       "[(70.91999816894531,\n",
       "  167.4696807861328,\n",
       "  224.4204559326172,\n",
       "  178.6300811767578,\n",
       "  'Datum Vorstellung Tumorboard:\\n',\n",
       "  2,\n",
       "  0),\n",
       " (244.44000244140625,\n",
       "  167.4696807861328,\n",
       "  563.7521362304688,\n",
       "  178.6300811767578,\n",
       "  '16.04.2025\\nNotfallambulanz Allgemeinchirurgie\\n',\n",
       "  11,\n",
       "  0)]"
      ]
     },
     "execution_count": 68,
     "metadata": {},
     "output_type": "execute_result"
    }
   ],
   "source": [
    "same_line"
   ]
  },
  {
   "cell_type": "code",
   "execution_count": 11,
   "id": "22336f3c-8a36-49f2-a159-0958d5498b13",
   "metadata": {},
   "outputs": [],
   "source": [
    "anchor = 'Diagnosen'"
   ]
  },
  {
   "cell_type": "code",
   "execution_count": 6,
   "id": "a8b75918-95f7-4591-b2bb-e92322903d45",
   "metadata": {},
   "outputs": [],
   "source": [
    "with open('decomp_tumorboard_aarontest.txt', 'r') as f:\n",
    "    my_text = f.readlines()"
   ]
  },
  {
   "cell_type": "code",
   "execution_count": 7,
   "id": "c4c6064f-4fb4-4f34-a24a-80b1c97f729e",
   "metadata": {},
   "outputs": [
    {
     "data": {
      "text/plain": [
       "[' \\n',\n",
       " 'Thorax- und Allgemeines Tumorboard\\n',\n",
       " 'Datum Vorstellung Tumorboard:\\n',\n",
       " 'Geb.-Datum:\\n',\n",
       " 'Aktuelle Diagnose und Fragestellung:\\n',\n",
       " 'ECOG:\\n',\n",
       " 'Entscheidungen aus vorangegangenen Tumorboards:\\n',\n",
       " 'Tumorboardempfehlung:\\n',\n",
       " 'Verwaltung\\n',\n",
       " 'Bisheriger onkologischer Verlauf:\\n',\n",
       " 'Name:\\n',\n",
       " '16.04.2025\\n',\n",
       " 'Notfallambulanz Allgemeinchirurgie\\n',\n",
       " 'Test, Aaron\\n',\n",
       " '17.06.1949\\n',\n",
       " 'tetdgfs\\n',\n",
       " 'sdfgds\\n',\n",
       " 'fg\\n',\n",
       " 'sdg\\n',\n",
       " 'sd\\n',\n",
       " 'fg\\n',\n",
       " 'dfg\\n',\n",
       " '0\\n',\n",
       " 'Kutanes Plattenepithelkarzinom, Kopf hochparietal, Tumordicke: 8 mm, R0-Status, ED (07/2019) \\n',\n",
       " 'pT3, cN0, cM0 (TNM 2010)\\n',\n",
       " '-aktuell plastische Defektdeckung nach R0 Resektion am 15.8.2019\\n',\n",
       " 'BasosquamÃ¶ses Karzinom, Ã¼ber dem linken Ohr\\n',\n",
       " 'Tumordicke: 5mm, R0 Status, ED (09/2019)\\n',\n",
       " 'Tumorklassifikation:\\n',\n",
       " '(Initial)\\n',\n",
       " 'Nodalstatus\\n',\n",
       " 'Metastasen\\n',\n",
       " 'L/V/PN\\n',\n",
       " 'Resektionsrand\\n',\n",
       " 'PrimÃ¤rtumor\\n',\n",
       " 'gdf\\n',\n",
       " 'dfg\\n',\n",
       " 'dfg\\n',\n",
       " '17.02.25 Haut Tumorboard: xxxxxxxxx\\n',\n",
       " 'tesdt\\n',\n",
       " 'Santhirika Ragunathan\\n',\n",
       " '\\x0c']"
      ]
     },
     "execution_count": 7,
     "metadata": {},
     "output_type": "execute_result"
    }
   ],
   "source": [
    "my_text"
   ]
  },
  {
   "cell_type": "code",
   "execution_count": null,
   "id": "25c1ca45-77ac-4103-9aa0-b41d6f79c3ac",
   "metadata": {},
   "outputs": [],
   "source": []
  },
  {
   "cell_type": "code",
   "execution_count": null,
   "id": "a017b508-b4ac-4fb7-b801-efb1f0294104",
   "metadata": {},
   "outputs": [],
   "source": []
  }
 ],
 "metadata": {
  "kernelspec": {
   "display_name": "Python (tbvenv)",
   "language": "python",
   "name": "tbvenv"
  },
  "language_info": {
   "codemirror_mode": {
    "name": "ipython",
    "version": 3
   },
   "file_extension": ".py",
   "mimetype": "text/x-python",
   "name": "python",
   "nbconvert_exporter": "python",
   "pygments_lexer": "ipython3",
   "version": "3.10.2"
  }
 },
 "nbformat": 4,
 "nbformat_minor": 5
}
