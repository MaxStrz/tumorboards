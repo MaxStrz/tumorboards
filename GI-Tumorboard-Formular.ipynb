{
 "cells": [
  {
   "cell_type": "code",
   "execution_count": 3,
   "id": "a3cacd36-5d89-4971-85ae-9d76c0bdf8ef",
   "metadata": {},
   "outputs": [],
   "source": [
    "from dataclasses import dataclass\n",
    "import hl7apy\n",
    "from hl7apy.core import Message\n",
    "import json\n",
    "import pandas as pd"
   ]
  },
  {
   "cell_type": "code",
   "execution_count": 4,
   "id": "ddff9f60-7f86-4f9c-9c51-32250e5c2449",
   "metadata": {},
   "outputs": [
    {
     "data": {
      "text/plain": [
       "'C:\\\\Users\\\\maxst\\\\AppData\\\\Local\\\\Programs\\\\Python\\\\Python310\\\\python.exe'"
      ]
     },
     "execution_count": 4,
     "metadata": {},
     "output_type": "execute_result"
    }
   ],
   "source": [
    "import sys\n",
    "sys.executable"
   ]
  },
  {
   "cell_type": "code",
   "execution_count": 16,
   "id": "7b38db5c-eec2-4365-b71b-635c92ea5a0e",
   "metadata": {},
   "outputs": [],
   "source": [
    "df = pd.read_csv('tumorboard_testfall.csv')"
   ]
  },
  {
   "cell_type": "code",
   "execution_count": 17,
   "id": "b55759fc-1da2-42ca-83b9-c0cd9871b3ea",
   "metadata": {
    "scrolled": true
   },
   "outputs": [
    {
     "data": {
      "text/html": [
       "<div>\n",
       "<style scoped>\n",
       "    .dataframe tbody tr th:only-of-type {\n",
       "        vertical-align: middle;\n",
       "    }\n",
       "\n",
       "    .dataframe tbody tr th {\n",
       "        vertical-align: top;\n",
       "    }\n",
       "\n",
       "    .dataframe thead th {\n",
       "        text-align: right;\n",
       "    }\n",
       "</style>\n",
       "<table border=\"1\" class=\"dataframe\">\n",
       "  <thead>\n",
       "    <tr style=\"text-align: right;\">\n",
       "      <th></th>\n",
       "      <th>Patientname</th>\n",
       "      <th>Geburtsdatum</th>\n",
       "      <th>Adresse des Patienten</th>\n",
       "      <th>Orbis PID</th>\n",
       "      <th>Krankheits ID</th>\n",
       "      <th>Datum Vorstellung Tumorboard</th>\n",
       "      <th>Chirurgischer Status</th>\n",
       "      <th>Tumorentität</th>\n",
       "      <th>angemeldet von</th>\n",
       "      <th>Tel.-Nr. vom Anmelder</th>\n",
       "      <th>...</th>\n",
       "      <th>Vorherige Tumorboards</th>\n",
       "      <th>Letzte Empfehlung umgesetzt?</th>\n",
       "      <th>Für ASV geeignet?</th>\n",
       "      <th>Diskussionsgrundlage</th>\n",
       "      <th>Tumorboardempfehlung</th>\n",
       "      <th>Unterschriftfeld</th>\n",
       "      <th>Name der Untershreiber</th>\n",
       "      <th>Funktionsbezeichnung</th>\n",
       "      <th>Anmekrung nach Vidierung</th>\n",
       "      <th>Eingabefeld für Anmerkung nach Vidierung</th>\n",
       "    </tr>\n",
       "  </thead>\n",
       "  <tbody>\n",
       "    <tr>\n",
       "      <th>0</th>\n",
       "      <td>Maximilian Schmidt</td>\n",
       "      <td>1965-08-17</td>\n",
       "      <td>Schillerstraße 12, 76133 Karlsruhe</td>\n",
       "      <td>12345678</td>\n",
       "      <td>2025-GI-0001</td>\n",
       "      <td>2025-05-23</td>\n",
       "      <td>Postoperativ R0-Resektion</td>\n",
       "      <td>Adenokarzinom des Sigma</td>\n",
       "      <td>Dr. med. Anna Becker</td>\n",
       "      <td>0721 974-2255</td>\n",
       "      <td>...</td>\n",
       "      <td>Keine</td>\n",
       "      <td>NaN</td>\n",
       "      <td>Ja</td>\n",
       "      <td>Postoperative Stadienzuordnung; adjuvante Ther...</td>\n",
       "      <td>6 Zyklen adjuvantes FOLFOX6; begleitende Ernäh...</td>\n",
       "      <td>placeholder</td>\n",
       "      <td>Prof. Dr. med. Rüdiger</td>\n",
       "      <td>Leitender Oberarzt Viszeralchirurgie</td>\n",
       "      <td>Keine zusätzlichen Hinweise</td>\n",
       "      <td>-</td>\n",
       "    </tr>\n",
       "  </tbody>\n",
       "</table>\n",
       "<p>1 rows × 36 columns</p>\n",
       "</div>"
      ],
      "text/plain": [
       "          Patientname Geburtsdatum               Adresse des Patienten  \\\n",
       "0  Maximilian Schmidt   1965-08-17  Schillerstraße 12, 76133 Karlsruhe   \n",
       "\n",
       "   Orbis PID Krankheits ID Datum Vorstellung Tumorboard  \\\n",
       "0   12345678  2025-GI-0001                   2025-05-23   \n",
       "\n",
       "        Chirurgischer Status             Tumorentität        angemeldet von  \\\n",
       "0  Postoperativ R0-Resektion  Adenokarzinom des Sigma  Dr. med. Anna Becker   \n",
       "\n",
       "  Tel.-Nr. vom Anmelder  ... Vorherige Tumorboards  \\\n",
       "0         0721 974-2255  ...                 Keine   \n",
       "\n",
       "  Letzte Empfehlung umgesetzt? Für ASV geeignet?  \\\n",
       "0                          NaN                Ja   \n",
       "\n",
       "                                Diskussionsgrundlage  \\\n",
       "0  Postoperative Stadienzuordnung; adjuvante Ther...   \n",
       "\n",
       "                                Tumorboardempfehlung  Unterschriftfeld  \\\n",
       "0  6 Zyklen adjuvantes FOLFOX6; begleitende Ernäh...       placeholder   \n",
       "\n",
       "   Name der Untershreiber                  Funktionsbezeichnung  \\\n",
       "0  Prof. Dr. med. Rüdiger  Leitender Oberarzt Viszeralchirurgie   \n",
       "\n",
       "      Anmekrung nach Vidierung Eingabefeld für Anmerkung nach Vidierung  \n",
       "0  Keine zusätzlichen Hinweise                                        -  \n",
       "\n",
       "[1 rows x 36 columns]"
      ]
     },
     "execution_count": 17,
     "metadata": {},
     "output_type": "execute_result"
    }
   ],
   "source": [
    "df"
   ]
  },
  {
   "cell_type": "markdown",
   "id": "ecf0a808-58b3-4524-903b-d424a1a00c17",
   "metadata": {},
   "source": [
    "#### Hole Liste von Patienten aus LIS"
   ]
  },
  {
   "cell_type": "code",
   "execution_count": 6,
   "id": "dc9f4273-ef4e-4a0c-a628-11b2b6ebe1f9",
   "metadata": {},
   "outputs": [],
   "source": [
    "patient_list = \"GI-Tumorboard-Liste.json\"\n",
    "with open(patient_list, \"r\", encoding=\"utf-8\") as f:\n",
    "    date_list = json.load(f)"
   ]
  },
  {
   "cell_type": "code",
   "execution_count": 7,
   "id": "b205a8f7-d652-43d4-a79a-83df041f1390",
   "metadata": {},
   "outputs": [
    {
     "data": {
      "text/plain": [
       "['25.05.2025']"
      ]
     },
     "execution_count": 7,
     "metadata": {},
     "output_type": "execute_result"
    }
   ],
   "source": [
    "dates = list(date_list.keys())\n",
    "dates"
   ]
  },
  {
   "cell_type": "code",
   "execution_count": 8,
   "id": "a6ce32d3-7f51-494c-8608-0eb5ff6b8ee7",
   "metadata": {},
   "outputs": [
    {
     "data": {
      "text/plain": [
       "{'Name': 'Max', 'Nachname': 'Mustermann', 'PID': '12345', 'TumorID': '024901'}"
      ]
     },
     "execution_count": 8,
     "metadata": {},
     "output_type": "execute_result"
    }
   ],
   "source": [
    "patient_list = date_list[dates[0]]\n",
    "patient_list[0]"
   ]
  },
  {
   "cell_type": "code",
   "execution_count": 20,
   "id": "1a5aee98-6962-4dbb-aca8-96b8ce7fc57c",
   "metadata": {},
   "outputs": [],
   "source": [
    "@dataclass\n",
    "class FallTumorBoard:\n",
    "    vorname: str\n",
    "    nachname: str\n",
    "    pid: int\n",
    "    tumorid: int\n",
    "    tumorentität: str = None\n",
    "    histopathologie: str = None\n",
    "    primaertumor: str = None\n",
    "    nodalstatus: str = None\n",
    "    entscheider: str = None"
   ]
  },
  {
   "cell_type": "code",
   "execution_count": 21,
   "id": "973347c8-838d-4433-a7b7-d10dda98f175",
   "metadata": {},
   "outputs": [],
   "source": [
    "def json_to_dataclass(fall_dict):\n",
    "    fall_instance = FallTumorBoard(\n",
    "        vorname=fall_dict['Name'],\n",
    "        nachname=fall_dict['Nachname'],\n",
    "        pid=fall_dict['PID'],\n",
    "        tumorid=fall_dict['TumorID']\n",
    "    )\n",
    "    return fall_instance"
   ]
  },
  {
   "cell_type": "code",
   "execution_count": 22,
   "id": "dbe51632-900d-4fb0-aef4-63b6eecc0434",
   "metadata": {},
   "outputs": [],
   "source": [
    "fall_1 = json_to_dataclass(patient_list[0])"
   ]
  },
  {
   "cell_type": "code",
   "execution_count": 23,
   "id": "24ff25db-b009-4be1-9f2a-a932098909e0",
   "metadata": {
    "scrolled": true
   },
   "outputs": [
    {
     "data": {
      "text/plain": [
       "'024901'"
      ]
     },
     "execution_count": 23,
     "metadata": {},
     "output_type": "execute_result"
    }
   ],
   "source": [
    "fall_1.tumorid"
   ]
  },
  {
   "cell_type": "markdown",
   "id": "f254e041-1d5c-4b52-983b-b450305b845a",
   "metadata": {},
   "source": [
    "#### Hole relevante Daten zum Tumorfall"
   ]
  },
  {
   "cell_type": "code",
   "execution_count": 24,
   "id": "280e88d1-523a-4969-a427-8be615cf4158",
   "metadata": {},
   "outputs": [],
   "source": [
    "def get_patho_info(tumorid):\n",
    "    \"\"\"\n",
    "    Jede Tumor Board Fall hat eine Tumormeldung.\n",
    "    Diese Tumormeldung hat Parametern, die man aufrufen kann.\n",
    "    \"\"\"\n",
    "    with open(\"pw_tumormeldungen.json\", mode=\"r\", encoding=\"utf-8\") as f:\n",
    "        tumormeldungen = json.load(f)\n",
    "\n",
    "    return tumormeldungen[tumorid]"
   ]
  },
  {
   "cell_type": "code",
   "execution_count": 25,
   "id": "09c8616d-f74c-46f6-9935-b5f51c5fc3fc",
   "metadata": {},
   "outputs": [
    {
     "data": {
      "text/plain": [
       "{'tumorentität': 'anus',\n",
       " 'histopathologie': 'RAS-Mutation',\n",
       " 'primaertumor': 'pTis',\n",
       " 'nodalstatus': 'platzhalter',\n",
       " 'entscheider': 'mustermann@krankenhaus.de'}"
      ]
     },
     "execution_count": 25,
     "metadata": {},
     "output_type": "execute_result"
    }
   ],
   "source": [
    "patho_info = get_patho_info(fall_1.tumorid)\n",
    "patho_info"
   ]
  },
  {
   "cell_type": "code",
   "execution_count": 27,
   "id": "40d80088-b7c6-489c-a90a-06651cccc194",
   "metadata": {},
   "outputs": [],
   "source": [
    "fall_1.tumorentität = patho_info['tumorentität']\n",
    "fall_1.histopathologie = patho_info['histopathologie']\n",
    "fall_1.primaertumor = patho_info['primaertumor']\n",
    "fall_1.nodalstatus = patho_info['nodalstatus']\n",
    "fall_1.entscheider = patho_info['entscheider']"
   ]
  },
  {
   "cell_type": "code",
   "execution_count": 28,
   "id": "640adc9d-6d93-400f-952b-e149c395af50",
   "metadata": {},
   "outputs": [
    {
     "data": {
      "text/plain": [
       "FallTumorBoard(vorname='Max', nachname='Mustermann', pid='12345', tumorid='024901', tumorentität='anus', histopathologie='RAS-Mutation', primaertumor='pTis', nodalstatus='platzhalter', entscheider='mustermann@krankenhaus.de')"
      ]
     },
     "execution_count": 28,
     "metadata": {},
     "output_type": "execute_result"
    }
   ],
   "source": [
    "fall_1"
   ]
  },
  {
   "cell_type": "code",
   "execution_count": null,
   "id": "2d061f23-b36f-40dc-9a30-ad786679ecbf",
   "metadata": {},
   "outputs": [],
   "source": [
    "def get_notes_from_previos_tb(tumor_id):\n",
    "    \"\"\"Notes are always carried forward\"\"\"."
   ]
  },
  {
   "cell_type": "code",
   "execution_count": null,
   "id": "ac9d1bcb-c1dd-4e48-9690-1e572baac620",
   "metadata": {},
   "outputs": [],
   "source": []
  },
  {
   "cell_type": "code",
   "execution_count": null,
   "id": "bc8cba53-3cd2-4d56-8d44-c52d6d8a4132",
   "metadata": {},
   "outputs": [],
   "source": []
  },
  {
   "cell_type": "code",
   "execution_count": null,
   "id": "6dfe42d0-ee8a-400d-8ce9-d344a0e680ff",
   "metadata": {},
   "outputs": [],
   "source": []
  },
  {
   "cell_type": "code",
   "execution_count": null,
   "id": "a739026a-e3b0-4145-ae81-111a7bcf1842",
   "metadata": {},
   "outputs": [],
   "source": []
  },
  {
   "cell_type": "markdown",
   "id": "7e51487c-0cb1-43fa-8a3a-533e4d2e9c86",
   "metadata": {
    "jp-MarkdownHeadingCollapsed": true
   },
   "source": [
    "#### Create ADT"
   ]
  },
  {
   "cell_type": "code",
   "execution_count": 18,
   "id": "5fc11c00-c6fe-4337-a296-82dccfe19269",
   "metadata": {},
   "outputs": [],
   "source": [
    "last_name = 'Mustermann'\n",
    "first_name = 'Max'"
   ]
  },
  {
   "cell_type": "code",
   "execution_count": 19,
   "id": "8069a9ee-6e01-4d45-a56e-63ad156d8f52",
   "metadata": {},
   "outputs": [],
   "source": [
    "m = Message(name=\"ADT_A01\")\n",
    "m.pid.pid_5.pid_5_1 = last_name\n",
    "m.pid.pid_5.pid_5_2 = first_name"
   ]
  },
  {
   "cell_type": "code",
   "execution_count": 20,
   "id": "bd882c29-da43-40f9-8ac7-4020956d2bcc",
   "metadata": {},
   "outputs": [
    {
     "name": "stdout",
     "output_type": "stream",
     "text": [
      "PID|||||Mustermann^Max10321|||||2.5\n"
     ]
    }
   ],
   "source": [
    "print(m.to_er7())"
   ]
  },
  {
   "cell_type": "code",
   "execution_count": null,
   "id": "9ee8851a-b1ab-4c1f-b3ef-08283df16703",
   "metadata": {},
   "outputs": [],
   "source": []
  }
 ],
 "metadata": {
  "kernelspec": {
   "display_name": "Python (tbvenv)",
   "language": "python",
   "name": "tbvenv"
  },
  "language_info": {
   "codemirror_mode": {
    "name": "ipython",
    "version": 3
   },
   "file_extension": ".py",
   "mimetype": "text/x-python",
   "name": "python",
   "nbconvert_exporter": "python",
   "pygments_lexer": "ipython3",
   "version": "3.10.2"
  }
 },
 "nbformat": 4,
 "nbformat_minor": 5
}
